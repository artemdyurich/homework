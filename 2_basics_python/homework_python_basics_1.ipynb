{
 "cells": [
  {
   "cell_type": "markdown",
   "metadata": {},
   "source": [
    "**Задание 1**. Даны 2 строки: *long_phrase* и *short_phrase*. \n",
    "Напишите код, который проверяет действительно ли длинная фраза *long_phrase* длиннее короткой *short_phrase*. И выводит *True* или *False* в зависимости от результата сравнения."
   ]
  },
  {
   "cell_type": "code",
   "execution_count": 13,
   "metadata": {},
   "outputs": [],
   "source": [
    "long_phrase = 'Насколько проще было бы писать программы, если бы не заказчики'\n",
    "short_phrase = '640Кб должно хватить для любых задач. Билл Гейтс (по легенде)'"
   ]
  },
  {
   "cell_type": "code",
   "execution_count": 14,
   "metadata": {},
   "outputs": [
    {
     "name": "stdout",
     "output_type": "stream",
     "text": [
      "True\n"
     ]
    }
   ],
   "source": [
    "print(len(long_phrase) > len(short_phrase))"
   ]
  },
  {
   "cell_type": "markdown",
   "metadata": {},
   "source": [
    "**Задание 2**. Дано значение объема файла в байтах (*в мегабайте 2^20 байт*). Напишите перевод этого значения в мегабайты в формате: \"*Объем файла равен 213.68Mb*\"."
   ]
  },
  {
   "cell_type": "code",
   "execution_count": 15,
   "metadata": {},
   "outputs": [
    {
     "name": "stdout",
     "output_type": "stream",
     "text": [
      "Введите объем файла в байтах 224059719.68\n",
      "Объем файла равен 213.68 Mb\n"
     ]
    }
   ],
   "source": [
    "# объем файла равен 224059719.68 байт\n",
    "file_size_bytes = float(input('Введите объем файла в байтах '))\n",
    "file_size_mb = file_size_bytes / (2**20)\n",
    "print('Объем файла равен',file_size_mb,'Mb')"
   ]
  },
  {
   "cell_type": "markdown",
   "metadata": {},
   "source": [
    "**Задание 3**. Разработать приложение для определения знака зодиака по дате рождения. Пример:\n",
    "\n",
    "Введите месяц: март\n",
    "\n",
    "Введите число: 6\n",
    "\n",
    "Вывод:\n",
    "Рыбы"
   ]
  },
  {
   "cell_type": "code",
   "execution_count": 16,
   "metadata": {},
   "outputs": [
    {
     "name": "stdout",
     "output_type": "stream",
     "text": [
      "Введите месяц рождения: апрель\n",
      "Введите день рождения: 10\n",
      "Знак зодиака: овен\n"
     ]
    }
   ],
   "source": [
    "month_of_birth = input('Введите месяц рождения: ')\n",
    "day_of_birth = int(input('Введите день рождения: '))\n",
    "if month_of_birth == 'март' and day_of_birth >= 21:\n",
    "    print('Знак зодиака: овен')\n",
    "elif month_of_birth == 'апрель' and day_of_birth <= 20:\n",
    "    print('Знак зодиака: овен')\n",
    "elif month_of_birth == 'апрель' and day_of_birth >= 21:\n",
    "    print('Знак зодиака: телец')\n",
    "elif month_of_birth == 'май' and day_of_birth <= 21:\n",
    "    print('Знак зодиака: телец')\n",
    "elif month_of_birth == 'май' and day_of_birth >= 22:\n",
    "    print('Знак зодиака: близнецы')\n",
    "elif month_of_birth == 'июнь' and day_of_birth <= 21:\n",
    "    print('Знак зодиака: близнецы')\n",
    "elif month_of_birth == 'июнь' and day_of_birth >= 22:\n",
    "    print('Знак зодиака: рак')\n",
    "elif month_of_birth == 'июль' and day_of_birth <= 22:\n",
    "    print('Знак зодиака: рак')\n",
    "elif month_of_birth == 'июнь' and day_of_birth >= 23:\n",
    "    print('Знак зодиака: лев')\n",
    "elif month_of_birth == 'август' and day_of_birth <= 23:\n",
    "    print('Знак зодиака: лев')\n",
    "elif month_of_birth == 'август' and day_of_birth >= 24:\n",
    "    print('Знак зодиака: дева')\n",
    "elif month_of_birth == 'сентябрь' and day_of_birth <= 23:\n",
    "    print('Знак зодиака: дева')\n",
    "elif month_of_birth == 'сентябрь' and day_of_birth >= 24:\n",
    "    print('Знак зодиака: весы')\n",
    "elif month_of_birth == 'октябрь' and day_of_birth <= 23:\n",
    "    print('Знак зодиака: весы')\n",
    "elif month_of_birth == 'октябрь' and day_of_birth >= 24:\n",
    "    print('Знак зодиака: скорпион')\n",
    "elif month_of_birth == 'ноябрь' and day_of_birth <= 22:\n",
    "    print('Знак зодиака: скорпион')\n",
    "elif month_of_birth == 'ноябрь' and day_of_birth >= 23:\n",
    "    print('Знак зодиака: стрелец')\n",
    "elif month_of_birth == 'декабрь' and day_of_birth <= 22:\n",
    "    print('Знак зодиака: стрелец')\n",
    "elif month_of_birth == 'декабрь' and day_of_birth >= 23:\n",
    "    print('Знак зодиака: козерог')\n",
    "elif month_of_birth == 'январь' and day_of_birth <= 20:\n",
    "    print('Знак зодиака: козерог')\n",
    "elif month_of_birth == 'январь' and day_of_birth >= 21:\n",
    "    print('Знак зодиака: водолей')\n",
    "elif month_of_birth == 'февраль' and day_of_birth <= 19:\n",
    "    print('Знак зодиака: водолей')\n",
    "elif month_of_birth == 'февраль' and day_of_birth >= 20:\n",
    "    print('Знак зодиака: рыбы')\n",
    "elif month_of_birth == 'март' and day_of_birth >= 20:\n",
    "    print('Знак зодиака: рыбы')\n",
    "else:\n",
    "    print('ошибка в программе')"
   ]
  },
  {
   "cell_type": "markdown",
   "metadata": {},
   "source": [
    "**Задание 4**. Нужно разработать приложение для финансового планирования.\n",
    "Приложение учитывает сколько уходит на ипотеку, \"на жизнь\" и сколько нужно отложить на пенсию.\n",
    "Пользователь вводит:\n",
    "- заработанную плату в месяц.\n",
    "- сколько процентов от ЗП уходит на ипотеку.\n",
    "- сколько процентов от ЗП уходит \"на жизнь\".\n",
    "- сколько раз приходит премия в год.\n",
    "\n",
    "Остальная часть заработанной платы откладывается на пенсию.\n",
    "\n",
    "Также пользователю приходит премия в размере зарплаты, от которой половина уходит на отпуск, а вторая половина откладывается.\n",
    "\n",
    "Программа должна учитывать сколько премий было в год.\n",
    "\n",
    "Нужно вывести сколько денег тратит пользователь на ипотеку и сколько он накопит за год.\n",
    "\n",
    "Пример:\n",
    "\n",
    "Введите заработанную плату в месяц: 100000\n",
    "\n",
    "Введите сколько процентов уходит на ипотеку: 30\n",
    "\n",
    "Введите сколько процентов уходит на жизнь: 50\n",
    "\n",
    "Введите количество премий за год: 2\n",
    "\n",
    "Вывод:\n",
    "На ипотеку было потрачено: 360000 рублей\n",
    "Было накоплено: 340000 рублей"
   ]
  },
  {
   "cell_type": "code",
   "execution_count": 17,
   "metadata": {},
   "outputs": [
    {
     "name": "stdout",
     "output_type": "stream",
     "text": [
      "Введите заработную плату в месяц: 200\n",
      "Введите сколько процентов уходит на ипотеку: 20\n",
      "Введите сколько процентов уходит на жизнь: 50\n",
      "Введите количество премий за год: 5\n",
      "За год на ипотеку потрачено 480 рублей. За год накоплено 1220 рублей.\n"
     ]
    }
   ],
   "source": [
    "salary_month = int(input('Введите заработную плату в месяц: '))\n",
    "mortgage_share = int(input('Введите сколько процентов уходит на ипотеку: '))\n",
    "life_share = int(input('Введите сколько процентов уходит на жизнь: '))\n",
    "premium_qty_year = int(input('Введите количество премий за год: '))\n",
    "premium_year = (salary_month * 0.5) * premium_qty_year\n",
    "mortgage_year = (salary_month * (mortgage_share / 100)) * 12\n",
    "accumulated_year = ((salary_month * (1 - (mortgage_share + life_share)/100)) * 12) + premium_year\n",
    "t = f'За год на ипотеку потрачено {int(mortgage_year)} рублей. За год накоплено {int(accumulated_year)} рублей.'\n",
    "print (t)"
   ]
  }
 ],
 "metadata": {
  "kernelspec": {
   "display_name": "Python 3",
   "language": "python",
   "name": "python3"
  },
  "language_info": {
   "codemirror_mode": {
    "name": "ipython",
    "version": 3
   },
   "file_extension": ".py",
   "mimetype": "text/x-python",
   "name": "python",
   "nbconvert_exporter": "python",
   "pygments_lexer": "ipython3",
   "version": "3.7.6"
  }
 },
 "nbformat": 4,
 "nbformat_minor": 2
}
