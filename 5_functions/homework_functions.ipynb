{
 "cells": [
  {
   "cell_type": "markdown",
   "metadata": {},
   "source": [
    "Вы работаете секретарем и вам постоянно приходят различные документы. Вы должны быть очень внимательны, чтобы не потерять ни один документ. Каталог документов хранится в следующем виде:"
   ]
  },
  {
   "cell_type": "code",
   "execution_count": 66,
   "metadata": {},
   "outputs": [],
   "source": [
    "documents = [\n",
    "    {'type': 'passport', 'number': '2207 876234', 'name': 'Василий Гупкин'},\n",
    "    {'type': 'invoice', 'number': '11-2', 'name': 'Геннадий Покемонов'},\n",
    "    {'type': 'insurance', 'number': '10006', 'name': 'Аристарх Павлов'}\n",
    "]"
   ]
  },
  {
   "cell_type": "markdown",
   "metadata": {},
   "source": [
    "Перечень полок, на которых находятся документы хранится в следующем виде:"
   ]
  },
  {
   "cell_type": "code",
   "execution_count": 67,
   "metadata": {},
   "outputs": [],
   "source": [
    "directories = {\n",
    "    '1': ['2207 876234', '11-2'],\n",
    "    '2': ['10006'],\n",
    "    '3': []\n",
    "}"
   ]
  },
  {
   "cell_type": "markdown",
   "metadata": {},
   "source": [
    "Необходимо реализовать пользовательские команды (внимание! это не название функций, которые должны быть выразительными, а команды, которые вводит пользователь, чтобы получить необходимый результат):\n",
    "  \n",
    "- p – people – команда, которая спросит номер документа и выведет имя человека, которому он принадлежит;  \n",
    "- s – shelf – команда, которая спросит номер документа и выведет номер полки, на которой он находится  \n",
    "*Правильно обработайте ситуации, когда пользователь будет вводить несуществующий документ*.\n",
    "- l – list – команда, которая выведет список всех документов в формате   \n",
    "**passport \"2207 876234\" \"Василий Гупкин\"**  \n",
    "- as – add shelf – команда, которая спросит номер новой полки и добавит ее в перечень. *Предусмотрите случай, когда пользователь добавляет полку, которая уже существует*.\n",
    "- d – delete – команда, которая спросит номер документа и удалит его из каталога и из перечня полок. *Предусмотрите сценарий, когда пользователь вводит несуществующий документ*;  \n",
    "- m – move – команда, которая спросит номер документа и целевую полку и переместит его с текущей полки на целевую. *Корректно обработайте кейсы, когда пользователь пытается переместить несуществующий документ или переместить документ на несуществующую полку*;  \n",
    "- a – add – команда, которая добавит новый документ в каталог и в перечень полок, спросив его номер, тип, имя владельца и номер полки, на котором он будет храниться. *Корректно обработайте ситуацию, когда пользователь будет пытаться добавить документ на несуществующую полку*."
   ]
  },
  {
   "cell_type": "code",
   "execution_count": 51,
   "metadata": {},
   "outputs": [],
   "source": [
    "# people – команда, которая спросит номер документа и выведет имя человека, которому он принадлежит\n",
    "\n",
    "def find_holdername(doc, direct):\n",
    "\n",
    "    document_number = input('Введите номер документа: ')\n",
    "\n",
    "    documents_list = []\n",
    "    for element_11 in doc:\n",
    "        documents_list.append(element_11['number'])\n",
    "\n",
    "    if document_number in documents_list:\n",
    "        for element in doc:\n",
    "            if element['number'] == document_number:\n",
    "                print((element['name']))\n",
    "    else:\n",
    "        print(f'Документа с таким номером не существует. Номера существующих докуменов: {documents_list}')"
   ]
  },
  {
   "cell_type": "code",
   "execution_count": 52,
   "metadata": {},
   "outputs": [],
   "source": [
    "# shelf – команда, которая спросит номер документа и выведет номер полки, на которой он находится\n",
    "\n",
    "def find_document_shelf(doc, direct):\n",
    "    document_number = input('Введите номер документа: ')\n",
    "\n",
    "    documents_list = []\n",
    "    for element_11 in doc:\n",
    "        documents_list.append(element_11['number'])\n",
    "\n",
    "    if document_number in documents_list:\n",
    "        for number_shelf, shelf in direct.items():\n",
    "            for doc_number in shelf:\n",
    "                if doc_number == document_number:\n",
    "                    print(f'Документ находится на полке №: {number_shelf}')\n",
    "    else:\n",
    "        print(f'Документа с таким номером не существует. Номера существующих докуменов: {documents_list}')"
   ]
  },
  {
   "cell_type": "code",
   "execution_count": 70,
   "metadata": {},
   "outputs": [
    {
     "name": "stdout",
     "output_type": "stream",
     "text": [
      "passport \"2207 876234\" \"Василий Гупкин\"\n",
      "invoice \"11-2\" \"Геннадий Покемонов\"\n",
      "insurance \"10006\" \"Аристарх Павлов\"\n"
     ]
    }
   ],
   "source": [
    "# list – команда, которая выведет список всех документов в формате\n",
    "\n",
    "def show_documents(doc, direct):\n",
    "    for element in doc:\n",
    "        print(f'{element[\"type\"]} \"{element[\"number\"]}\" \"{element[\"name\"]}\"')"
   ]
  },
  {
   "cell_type": "code",
   "execution_count": 54,
   "metadata": {},
   "outputs": [],
   "source": [
    "# add shelf – команда, которая спросит номер новой полки и добавит ее в перечень\n",
    "\n",
    "def adding_shelf(doc, direct):\n",
    "\n",
    "    new_shelf_number = input('Введите номер новой полки: ')\n",
    "\n",
    "    list_shelf_number = []\n",
    "    for element_4 in directories:\n",
    "         list_shelf_number.append(element_4)\n",
    "\n",
    "    if new_shelf_number not in list_shelf_number:\n",
    "        directories[new_shelf_number] = []\n",
    "        print(f'Полка с номером {new_shelf_number} добавлена')\n",
    "        print(directories)\n",
    "    else:\n",
    "        print(f'Полка с таким номером уже существует. Список занятых полок: {list_shelf_number}')"
   ]
  },
  {
   "cell_type": "code",
   "execution_count": 60,
   "metadata": {},
   "outputs": [],
   "source": [
    "#  delete – команда, которая спросит номер документа и удалит его из каталога и из перечня полок\n",
    "\n",
    "def delete_document(doc, direct):\n",
    "\n",
    "    document_number = input('Введите номер документа, который хотите удалить: ')\n",
    "\n",
    "    documents_list = []\n",
    "    for element_11 in documents:\n",
    "        documents_list.append(element_11['number'])\n",
    "\n",
    "    if document_number not in documents_list:\n",
    "        print(f'Документа с таким номером не существует. Номера существующих докуменов: {documents_list}')\n",
    "\n",
    "    else:\n",
    "        for element_5 in documents:\n",
    "                if element_5['number'] == document_number:\n",
    "                    del(documents)[documents.index(element_5)]\n",
    "                    break\n",
    "\n",
    "        for element_6 in direct.values():\n",
    "            for element_7 in element_6:\n",
    "                if element_7 == document_number:\n",
    "                    element_6.remove(element_7)\n",
    "            break\n",
    "\n",
    "        print(f'Документ \"{document_number}\" удален')\n",
    "        print()\n",
    "        print(directories)\n",
    "        print(documents)"
   ]
  },
  {
   "cell_type": "code",
   "execution_count": 56,
   "metadata": {},
   "outputs": [],
   "source": [
    "# move – команда, которая спросит номер документа и целевую полку и переместит его с текущей полки на целевую\n",
    "\n",
    "def moving_document(doc, direct):\n",
    "\n",
    "    document_number = input('Введите номер документа, который хотите переместить: ')\n",
    "    shelf_number = input('Введите номер полки, на которую хотите переместить документ: ')\n",
    "\n",
    "    documents_list = []\n",
    "    for element_12 in documents:\n",
    "        documents_list.append(element_12['number'])\n",
    "\n",
    "    list_shelf_number = []\n",
    "    for element_4 in directories:\n",
    "         list_shelf_number.append(element_4)\n",
    "\n",
    "    if document_number not in documents_list or shelf_number not in list_shelf_number:\n",
    "        print()\n",
    "        print('Документ или полка с таким номером не существует') \n",
    "        print(f'Номера существующих докуменов: {documents_list}')\n",
    "        print(f'Номера существующих полок: {list_shelf_number}')\n",
    "\n",
    "    else:\n",
    "        for element_8 in directories.values():\n",
    "                for element_9 in element_8:\n",
    "                    if element_9 == document_number:\n",
    "                        element_8.remove(element_9)\n",
    "                        break\n",
    "\n",
    "        for key_3, element_10 in directories.items():\n",
    "            if key_3 == shelf_number:\n",
    "                element_10.append(document_number)\n",
    "                break\n",
    "        print()\n",
    "        print(f'Документ \"{document_number}\" перемещен на полку номер {shelf_number}')\n",
    "        print(directories)"
   ]
  },
  {
   "cell_type": "code",
   "execution_count": 57,
   "metadata": {},
   "outputs": [],
   "source": [
    "# add – команда, которая добавит новый документ в каталог и в перечень полок\n",
    "\n",
    "def add_new_document(doc, direct):\n",
    "\n",
    "    document_number = input('Введите номер документа: ')\n",
    "    document_holder = input('Введите имя владельца документа: ')\n",
    "    document_type = input('Введите тип документа: ')\n",
    "    shelf_number = input('Введите номер полки, на которой будет храниться документ: ')\n",
    "\n",
    "    list_shelf_number = []\n",
    "    for element_4 in directories:\n",
    "         list_shelf_number.append(element_4)\n",
    "\n",
    "    if shelf_number in list_shelf_number:\n",
    "        print(f'Полка с таким номером уже существует. Список занятых полок: {list_shelf_number}')\n",
    "    else:\n",
    "        documents.append({'type': document_type, 'number': document_number, 'name': document_holder})\n",
    "        directories[shelf_number] = [document_number]\n",
    "\n",
    "        print()\n",
    "        print('Новый документ добавлен в каталог и на полку')\n",
    "        print()\n",
    "        print(documents)\n",
    "        print(directories)"
   ]
  },
  {
   "cell_type": "code",
   "execution_count": 74,
   "metadata": {},
   "outputs": [],
   "source": [
    "def command_input(doc=documents, direct=directories):\n",
    "\n",
    "    print('Доступные команды: people, shelf, list, add shelf, delete, move, add')\n",
    "    command = input('Введите команду: ')\n",
    "    \n",
    "    if command == 'people':\n",
    "        find_holdername(doc, direct)\n",
    "    elif command == 'shelf':\n",
    "        find_document_shelf(doc, direct)\n",
    "    elif command == 'list':\n",
    "        show_documents(doc, direct)\n",
    "    elif command == 'add shelf':\n",
    "        adding_shelf(doc, direct)\n",
    "    elif command == 'delete':\n",
    "        delete_document(doc, direct)\n",
    "    elif command == 'move':\n",
    "        moving_document(doc, direct)\n",
    "    elif command == 'add':\n",
    "        add_new_document(doc, direct)\n",
    "    else:\n",
    "        print('Такой команды не существует, введите другую команду')"
   ]
  },
  {
   "cell_type": "code",
   "execution_count": 77,
   "metadata": {},
   "outputs": [
    {
     "name": "stdout",
     "output_type": "stream",
     "text": [
      "Доступные команды: people, shelf, list, add shelf, delete, move, add\n",
      "Введите команду: delete\n",
      "Введите номер документа, который хотите удалить: 10006\n",
      "Документ \"10006\" удален\n",
      "\n",
      "{'1': ['2207 876234'], '2': ['10006'], '3': []}\n",
      "[{'type': 'passport', 'number': '2207 876234', 'name': 'Василий Гупкин'}]\n"
     ]
    }
   ],
   "source": [
    "# функция, которая запрашивает и исполняет команды пользователя\n",
    "command_input()"
   ]
  }
 ],
 "metadata": {
  "kernelspec": {
   "display_name": "Python 3",
   "language": "python",
   "name": "python3"
  },
  "language_info": {
   "codemirror_mode": {
    "name": "ipython",
    "version": 3
   },
   "file_extension": ".py",
   "mimetype": "text/x-python",
   "name": "python",
   "nbconvert_exporter": "python",
   "pygments_lexer": "ipython3",
   "version": "3.7.6"
  }
 },
 "nbformat": 4,
 "nbformat_minor": 2
}
