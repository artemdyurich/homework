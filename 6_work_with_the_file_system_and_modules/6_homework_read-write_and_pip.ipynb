{
 "cells": [
  {
   "cell_type": "markdown",
   "metadata": {},
   "source": [
    "# Домашнее задание\n",
    "1. Переведите содержимое файла purchase_log.txt в словарь purchases вида:\n",
    "```python\n",
    "{'1840e0b9d4': 'Продукты', ...}\n",
    "```\n",
    "\n",
    "2. Для каждого user_id в файле visit_log.csv определите третий столбец с категорией покупки (если покупка была, сам файл visit_log.csv изменять не надо). Запишите в файл funnel.csv визиты из файла visit_log.csv, в которых были покупки с указанием категории.\n",
    "\n",
    "Учтите условия на данные:\n",
    "- содержимое purchase_log.txt помещается в оперативную память компьютера\n",
    "- содержимое visit_log.csv - нет; используйте только построчную обработку этого файла"
   ]
  },
  {
   "cell_type": "code",
   "execution_count": 1,
   "metadata": {},
   "outputs": [],
   "source": [
    " import json"
   ]
  },
  {
   "cell_type": "code",
   "execution_count": 3,
   "metadata": {},
   "outputs": [],
   "source": [
    "# 1.Переведите содержимое файла purchase_log.txt в словарь purchases.\n",
    "\n",
    "with open('purchase_log.txt', 'r', encoding = 'UTF-8') as f:\n",
    "    f.readline()\n",
    "    \n",
    "    purchases = {}\n",
    "    for line in f:\n",
    "        a = json.loads(line)\n",
    "        purchases[a['user_id']] = a['category']\n",
    "    f.close()"
   ]
  },
  {
   "cell_type": "code",
   "execution_count": 4,
   "metadata": {},
   "outputs": [],
   "source": [
    "# 2. Запишите в файл funnel.csv визиты из файла visit_log.csv, в которых были покупки с указанием категории.\n",
    "\n",
    "visit = open('visit_log.csv', 'r', encoding = 'UTF-8')\n",
    "funnel = open('funnel.csv', 'w')\n",
    "\n",
    "for element in visit:\n",
    "    a = element.strip().split(',')\n",
    "    if a[0] in purchases:\n",
    "        funnel.write(f'{a[0]}, {a[1]}, {purchases[a[0]]}\\n')\n",
    "\n",
    "visit.close()\n",
    "funnel.close()"
   ]
  }
 ],
 "metadata": {
  "kernelspec": {
   "display_name": "Python 3",
   "language": "python",
   "name": "python3"
  },
  "language_info": {
   "codemirror_mode": {
    "name": "ipython",
    "version": 3
   },
   "file_extension": ".py",
   "mimetype": "text/x-python",
   "name": "python",
   "nbconvert_exporter": "python",
   "pygments_lexer": "ipython3",
   "version": "3.7.6"
  }
 },
 "nbformat": 4,
 "nbformat_minor": 2
}
